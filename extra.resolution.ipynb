{
 "cells": [
  {
   "cell_type": "markdown",
   "metadata": {},
   "source": [
    "# Extra Notebook: Resolution of Images"
   ]
  },
  {
   "cell_type": "code",
   "execution_count": 1,
   "metadata": {},
   "outputs": [],
   "source": [
    "# Imports\n",
    "from dsa_helpers.girder_utils import login\n",
    "from tqdm.notebook import tqdm\n",
    "from multiprocessing import Pool\n",
    "from girder_client import HttpError\n",
    "import pandas as pd"
   ]
  },
  {
   "cell_type": "code",
   "execution_count": 2,
   "metadata": {},
   "outputs": [],
   "source": [
    "# Authenticate girder client.\n",
    "gc = login(\"https://computablebrain.emory.edu/api/v1\")"
   ]
  },
  {
   "cell_type": "code",
   "execution_count": null,
   "metadata": {},
   "outputs": [],
   "source": [
    "# Get all the items from Emory.\n",
    "items = gc.get(\n",
    "    f\"resource/6382af947f8a5e686a682eab/items?type=folder&limit=0&offset=0&sort=_id&sortdir=1\"\n",
    ")\n",
    "\n",
    "items.extend(\n",
    "    gc.get(\n",
    "        f\"resource/638148727f8a5e686a5db6e6/items?type=folder&limit=0&offset=0&sort=_id&sortdir=1\"\n",
    "    )\n",
    ")\n",
    "\n",
    "print(f\"Total number of items: {len(items)}\")"
   ]
  },
  {
   "cell_type": "code",
   "execution_count": null,
   "metadata": {},
   "outputs": [],
   "source": [
    "def get_resolution(item):\n",
    "    try:\n",
    "        large_image_metadata = gc.get(f\"item/{item['_id']}/tiles\")\n",
    "        \n",
    "        return item['name'], large_image_metadata[\"mm_x\"], large_image_metadata[\"mm_y\"]\n",
    "    except HttpError:\n",
    "        return None\n",
    "    \n",
    "    \n",
    "resolutions = []\n",
    "\n",
    "with Pool(20) as pool:\n",
    "    jobs = [\n",
    "        pool.apply_async(get_resolution, args=(item,))\n",
    "        for item in items\n",
    "    ]\n",
    "    \n",
    "    for job in tqdm(jobs):\n",
    "        result = job.get()\n",
    "        \n",
    "        if result is not None:\n",
    "            resolutions.append(result)"
   ]
  },
  {
   "cell_type": "code",
   "execution_count": null,
   "metadata": {},
   "outputs": [],
   "source": [
    "# Convert to a dataframe.\n",
    "df = pd.DataFrame(resolutions, columns=[\"name\", \"mm_x\", \"mm_y\"])\n",
    "\n",
    "# Scale the coordinates to micrometers.\n",
    "df[\"um_x\"] = df[\"mm_x\"] * 1000\n",
    "df[\"um_y\"] = df[\"mm_y\"] * 1000\n",
    "\n",
    "df.to_csv(\"csvs/emory_resolutions.csv\", index=False)\n",
    "df.head()"
   ]
  }
 ],
 "metadata": {
  "kernelspec": {
   "display_name": "env",
   "language": "python",
   "name": "python3"
  },
  "language_info": {
   "codemirror_mode": {
    "name": "ipython",
    "version": 3
   },
   "file_extension": ".py",
   "mimetype": "text/x-python",
   "name": "python",
   "nbconvert_exporter": "python",
   "pygments_lexer": "ipython3",
   "version": "3.12.3"
  }
 },
 "nbformat": 4,
 "nbformat_minor": 2
}
