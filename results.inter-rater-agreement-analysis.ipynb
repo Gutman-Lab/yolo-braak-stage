{
 "cells": [
  {
   "cell_type": "markdown",
   "id": "c87ef34a",
   "metadata": {},
   "source": [
    "# Results: Braak Stage Inter-rater Agreement Analysis"
   ]
  },
  {
   "cell_type": "code",
   "execution_count": null,
   "id": "8219b0ac",
   "metadata": {
    "code_folding": []
   },
   "outputs": [],
   "source": [
    "# imports\n",
    "from pandas import read_csv, DataFrame\n",
    "from itertools import combinations\n",
    "from sklearn.metrics import cohen_kappa_score\n",
    "import numpy as np\n",
    "from tqdm.notebook import tqdm\n",
    "import matplotlib.pyplot as plt\n",
    "\n",
    "from os import makedirs\n",
    "from os.path import join\n",
    "\n",
    "from nft_helpers.girder_dsa import login\n",
    "from nft_helpers.utils import load_yaml\n",
    "from nft_helpers.plot import format_plot_edges, plot_histogram\n",
    "\n",
    "cf = load_yaml()\n",
    "save_dir = join(cf.datadir, 'results/inter-rater-agreement')\n",
    "makedirs(save_dir, exist_ok='True')\n",
    "random_state = 68"
   ]
  },
  {
   "cell_type": "code",
   "execution_count": null,
   "id": "0cae2df6",
   "metadata": {
    "code_folding": []
   },
   "outputs": [],
   "source": [
    "# Authenticate girder client.\n",
    "gc = login(join(cf.dsaURL, 'api/v1'), username=cf.user, password=cf.password)"
   ]
  },
  {
   "cell_type": "markdown",
   "id": "ffa294fd",
   "metadata": {},
   "source": [
    "## Dataset Overview\n",
    "52 Emory cases with regions: hippocampus*, amygdala, and the temporal & occipital cortex.\n",
    "\n",
    "\\* 2 cases had a left and right hippocampus WSI."
   ]
  },
  {
   "cell_type": "code",
   "execution_count": null,
   "id": "4288b69a",
   "metadata": {
    "code_folding": []
   },
   "outputs": [],
   "source": [
    "# Get metadata for cases in this cohort.\n",
    "cases_df = read_csv('csvs/cases.csv').sort_values(by='case')\n",
    "cases_df = cases_df[cases_df.cohort == 'Inference-Cohort-1'].reset_index(\n",
    "    drop=True)\n",
    "\n",
    "# Rename race for publication.\n",
    "cases_df = cases_df.replace({'Caucasian': 'White', \n",
    "                             'Black / African American': 'African American'})\n",
    "\n",
    "# Need to get missing metadata by calling the DSA metadata.\n",
    "wsi_df = read_csv('csvs/wsis.csv')\n",
    "wsi_df = wsi_df[wsi_df.cohort == 'Annotated-Cohort']\n",
    "\n",
    "demographics = []\n",
    "\n",
    "for i, r in cases_df.iterrows():\n",
    "    age_at_death = int(r.age_at_death) if int(r.age_at_death) < 90 else '90+'\n",
    "    \n",
    "    # Get missing metadata\n",
    "    meta = gc.getItem(wsi_df[wsi_df.case == r.case].iloc[0].parent_id)['meta']\n",
    "    \n",
    "    demographics.append([\n",
    "        i+1,\n",
    "        age_at_death,\n",
    "        'F' if r.sex == 'female' else 'M',\n",
    "        r.race,\n",
    "        r.Primary_NP_Dx,\n",
    "        r.Braak_stage,\n",
    "        int(r.Thal),\n",
    "        int(meta['CERAD']),\n",
    "        int(r.ABC)\n",
    "    ])\n",
    "    \n",
    "demographics = DataFrame(\n",
    "    demographics, \n",
    "    columns=[\n",
    "        'case', 'Age at Death', 'Sex', 'Race/Ethnicity', \n",
    "        'Primary NP Diagnosis', 'Braak Stage', 'Thal', 'CERAD NP Score', 'ABC'\n",
    "    ]\n",
    ")\n",
    "demographics.to_csv(join(save_dir, 'demographics.csv'), index=False)\n",
    "demographics.head()"
   ]
  },
  {
   "cell_type": "markdown",
   "id": "cf35ddfa",
   "metadata": {},
   "source": [
    "## Braak Stage Inter-rater Analysis \n",
    "Following the methods described in Montine *et. al.* 2016, Alzheimers Dement."
   ]
  },
  {
   "cell_type": "code",
   "execution_count": null,
   "id": "bdc7d586",
   "metadata": {
    "code_folding": []
   },
   "outputs": [],
   "source": [
    "# Histogram of pair kappas.\n",
    "# Compile the Braak stage for each case by the raters.\n",
    "stages = []\n",
    "raters = sorted(list(\n",
    "    wsi_df[wsi_df.annotator.str.contains('expert')].annotator.unique()\n",
    "))\n",
    "cases = list(sorted(wsi_df.case.unique()))\n",
    "\n",
    "for i, case in enumerate(cases):\n",
    "    row = [i+1]\n",
    "    \n",
    "    for rater in raters:\n",
    "        row.append(int(wsi_df[(wsi_df.case == case) & \\\n",
    "                          (wsi_df.annotator == rater)].iloc[0].Braak_stage))\n",
    "        \n",
    "    stages.append(row)\n",
    "    \n",
    "# Index: cases\n",
    "# Columns: experts\n",
    "# Values: Braak stages\n",
    "stages = DataFrame(stages, index=cases, columns=['case'] + raters)\n",
    "stages.to_csv(join(save_dir, 'Braak-stages.csv'), index=False)\n",
    "\n",
    "# Pair kappa histogram.\n",
    "pair_kappas = []\n",
    "\n",
    "for pair in combinations(raters, 2):\n",
    "    rater1, rater2 = sorted(pair)\n",
    "    \n",
    "    # Calculate the weighted kappa.\n",
    "    pair_kappas.append([\n",
    "        f'{rater1}-{rater2}',\n",
    "        cohen_kappa_score(stages[rater1], stages[rater2], weights='quadratic')]\n",
    "    )\n",
    "\n",
    "pair_kappas = DataFrame(pair_kappas, columns=['Raters', 'k'])\n",
    "    \n",
    "kwargs = {'binwidth': 0.050, 'binrange': [0, 1.], 'edgecolor': 'k', \n",
    "          'color': 'w', 'linewidth': 2}\n",
    "\n",
    "ax = plot_histogram(\n",
    "    pair_kappas.k, \n",
    "    spine_lw=2, \n",
    "    x_label='Paired Kappas', \n",
    "    title='Braak Stage',\n",
    "    y_freq=1,\n",
    "    **kwargs\n",
    ")\n",
    "plt.xlim([0, 1.])\n",
    "plt.savefig(join(save_dir, 'pair-kappas-hist.png'), bbox_inches='tight', \n",
    "            dpi=300)\n",
    "plt.show()\n",
    "display(stages.head())\n",
    "display(pair_kappas.head())"
   ]
  },
  {
   "cell_type": "code",
   "execution_count": null,
   "id": "c2925ac5",
   "metadata": {
    "code_folding": []
   },
   "outputs": [],
   "source": [
    "# Perform jackknife approach on the raters.\n",
    "jk_raters = []\n",
    "\n",
    "for rater in raters:\n",
    "    jk_kappas = []\n",
    "    \n",
    "    for pair in combinations([r for r in raters if r != rater], 2):\n",
    "        jk_kappas.append([\n",
    "            cohen_kappa_score(stages[pair[0]], stages[pair[1]], \n",
    "                              weights='quadratic')\n",
    "        ])\n",
    "        \n",
    "    jk_raters.append([rater, np.mean(jk_kappas)])\n",
    "\n",
    "jk_raters = DataFrame(jk_raters, columns=['Rater Removed', 'Average Kappa'])\n",
    "jk_raters.to_csv(join(save_dir, 'jackknife-remove-rater.csv'), index=False)\n",
    "jk_raters"
   ]
  },
  {
   "cell_type": "code",
   "execution_count": null,
   "id": "57f9595a",
   "metadata": {
    "code_folding": []
   },
   "outputs": [],
   "source": [
    "# Bootstrap approach to calculate 95% CI.\n",
    "np.random.seed(random_state)\n",
    "bs_mean_kappas = []\n",
    "\n",
    "for _ in tqdm(range(1000)):\n",
    "    # Sample the cases with replacement.\n",
    "    bs_stages = stages.sample(frac=1, replace=True)\n",
    "    \n",
    "    bs_kappas = []\n",
    "    \n",
    "    for pair in combinations(raters, 2):\n",
    "        bs_kappas.append(cohen_kappa_score(\n",
    "            bs_stages[pair[0]], bs_stages[pair[1]], weights='quadratic'\n",
    "        ))\n",
    "        \n",
    "    bs_mean_kappas.append(np.mean(bs_kappas))\n",
    "    \n",
    "low_ci, high_ci = np.percentile(sorted(bs_mean_kappas),[2.5,97.5])"
   ]
  },
  {
   "cell_type": "code",
   "execution_count": null,
   "id": "6614c8a7",
   "metadata": {
    "code_folding": []
   },
   "outputs": [],
   "source": [
    "# For each case plot a vertical line based on the stages provideb by raters.\n",
    "# Add average stage column.\n",
    "stages['Braak Stage'] = stages[raters].mean(axis=1)\n",
    "stages = stages.sort_values(by='Braak Stage').reset_index(drop=True)\n",
    "\n",
    "scatter_map = {1: '.', 2: 'v', 3: 's', 4: 'P', 5: 'X'}\n",
    "\n",
    "# Plot a scatter plot with vertical lines.\n",
    "plt.figure(figsize=(10,5))\n",
    "\n",
    "data = {}\n",
    "\n",
    "for i, r in stages.iterrows():\n",
    "    # Get the minium and maximum stage given for this case.\n",
    "    for stage, counts in r[raters].value_counts().items():\n",
    "        counts = int(counts)\n",
    "        \n",
    "        if counts not in data:\n",
    "            data[counts] = {'x': [], 'y': []}\n",
    "            \n",
    "        data[counts]['x'].append(i+1)\n",
    "        data[counts]['y'].append(stage)\n",
    "        \n",
    "counts = sorted(list(data.keys()))\n",
    "for count in counts:\n",
    "    x, y = data[count]['x'], data[count]['y']\n",
    "    \n",
    "    plt.scatter(x, y, marker=scatter_map[count], s=50, \n",
    "                c=f'#{cf.colors[count-1]}')\n",
    "    \n",
    "plt.legend(['1', '2', '3', '4', '5'], fontsize=16, title='Rater Agreement (Count)',\n",
    "           title_fontsize=16)\n",
    "\n",
    "for i, r in stages.iterrows():\n",
    "    min_y = int(r[raters].min())\n",
    "    max_y = int(r[raters].max())\n",
    "    \n",
    "    if min_y != max_y:\n",
    "        plt.vlines(i+1, min_y, max_y, color='k', alpha=0.5, zorder=0, \n",
    "                   linestyles='dashed')\n",
    "    \n",
    "ax = plt.gca()\n",
    "format_plot_edges(ax)\n",
    "ax.tick_params(axis='both', which='both', direction='out', length=10, \n",
    "                width=3)\n",
    "plt.xlim([0, len(stages)])\n",
    "\n",
    "plt.xticks(np.arange(1, len(stages)+1), stages.case.tolist(), fontsize=10, \n",
    "           rotation=270)\n",
    "\n",
    "plt.yticks(\n",
    "    ticks=np.arange(0, 7), \n",
    "    labels=('0', 'I', 'II', 'III', 'IV', 'V', 'VI'), \n",
    "    fontsize=18,\n",
    ")\n",
    "plt.ylabel('Braak Stage', fontsize=18)\n",
    "plt.xlabel('Case', fontsize=18)\n",
    "plt.title('Braak Stages', fontsize=18)\n",
    "# plt.savefig(join(save_dir, 'Braak-stages.png'), bbox_inches='tight', dpi=300)\n",
    "plt.show()"
   ]
  },
  {
   "cell_type": "code",
   "execution_count": null,
   "id": "ef139800",
   "metadata": {
    "code_folding": []
   },
   "outputs": [],
   "source": [
    "# Add statistics on pair kappas.\n",
    "results = 'Braak Stage Inter-rater Analysis\\n'  # Keep track of results.\n",
    "results += '-' * (len(results) - 1) + '\\n\\n'\n",
    "results += \"Weighted Cohen's Kappas between pair of raters:\\n\"\n",
    "results += f'   - Average: {np.mean(pair_kappas.k):.4f} (range: ' + \\\n",
    "           f'{min(pair_kappas.k):.4f} - {max(pair_kappas.k):.4f})\\n'\n",
    "results += f'   - 95% CI: {low_ci:.4f} - {high_ci:.4f}  (1000 bootstraps)'\n",
    "\n",
    "with open(join(save_dir, 'inter-rater-agreement.txt'), 'w') as fh:\n",
    "    fh.write(results)\n",
    "    \n",
    "print(results)"
   ]
  }
 ],
 "metadata": {
  "kernelspec": {
   "display_name": "Python 3 (ipykernel)",
   "language": "python",
   "name": "python3"
  },
  "language_info": {
   "codemirror_mode": {
    "name": "ipython",
    "version": 3
   },
   "file_extension": ".py",
   "mimetype": "text/x-python",
   "name": "python",
   "nbconvert_exporter": "python",
   "pygments_lexer": "ipython3",
   "version": "3.8.13"
  }
 },
 "nbformat": 4,
 "nbformat_minor": 5
}
