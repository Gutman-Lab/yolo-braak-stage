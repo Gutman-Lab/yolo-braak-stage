{
 "cells": [
  {
   "cell_type": "markdown",
   "id": "0bbb20d1",
   "metadata": {},
   "source": [
    "# Tutorial 2: Create Dataset Files\n",
    "Training, validation, and prediction using Ultralytics YOLO models are specified by YAML files in a specific format. In this tutorial we explain how you would set this up for a dummy dataset. \n",
    "\n",
    "Use tutorial 1 to create a dataset to use or create one as explained.\n",
    "\n",
    "The dataset YAML file contains the following:\n",
    "\n",
    "```\n",
    "names:\n",
    "- name of index class 0\n",
    "- name of index class 1\n",
    "...\n",
    "- name of class n\n",
    "\n",
    "nc: n-1  # number of classes\n",
    "\n",
    "path: path to directory containing text files\n",
    "\n",
    "train: filename of train text file\n",
    "val: filename of validation text file\n",
    "test: filename of test text file  # optional\n",
    "```\n",
    "\n",
    "The train, val, and test text files contain the filepath (try to use absolute filepaths to avoid issues) of each image to use in those subsets. For example, for the ROIs downloaded from ROIs.zip your text file might look like this:\n",
    "\n",
    "train.txt:\n",
    "\n",
    "```\n",
    "/workspace/data/ROIs/images/638147637f8a5e686a52dded-x18232y55761.png\n",
    "/workspace/data/ROIs/images/638147667f8a5e686a52efa4-x56607y69379.png\n",
    "/workspace/data/ROIs/images/638147787f8a5e686a53bf21-x59676y38171.png\n",
    "```\n",
    "\n",
    "Note that there should be a new line character between each filepath."
   ]
  },
  {
   "cell_type": "code",
   "execution_count": 1,
   "id": "af3e11a3",
   "metadata": {},
   "outputs": [],
   "source": [
    "# Imports\n",
    "from glob import glob\n",
    "from os.path import join\n",
    "import yaml"
   ]
  },
  {
   "cell_type": "code",
   "execution_count": 4,
   "id": "d0df0e19",
   "metadata": {},
   "outputs": [
    {
     "name": "stdout",
     "output_type": "stream",
     "text": [
      "Total number of tile images: 504\n"
     ]
    },
    {
     "data": {
      "text/plain": [
       "{'names': ['Pre-NFT', 'iNFT'],\n",
       " 'nc': 2,\n",
       " 'path': '/workspace/data/',\n",
       " 'train': 'train.txt',\n",
       " 'val': 'val.txt'}"
      ]
     },
     "execution_count": 4,
     "metadata": {},
     "output_type": "execute_result"
    }
   ],
   "source": [
    "# Example of how you might set this up for ROIs folder (extracted from ROIs.zip).\n",
    "# See tutorial 1 on how to create the tile images.\n",
    "tile_dir = '/workspace/data/tiles/images'\n",
    "\n",
    "# List all the tile images.\n",
    "fps = sorted(glob(join(tile_dir, '*.png')))\n",
    "\n",
    "print(f'Total number of tile images: {len(fps)}')\n",
    "\n",
    "# Take a subset for validation and the rest for training.\n",
    "val_fps = fps[100:]\n",
    "train_fps = fps[100:]\n",
    "\n",
    "path = '/workspace/data/'\n",
    "train_fn = 'train.txt'\n",
    "val_fn = 'val.txt'\n",
    "\n",
    "# Write the filepaths to file.\n",
    "with open(join(path, train_fn), 'w') as fh:\n",
    "    lines = ''\n",
    "    \n",
    "    for fp in train_fps:\n",
    "        lines += f'{fp}\\n'\n",
    "        \n",
    "    fh.write(lines.strip())\n",
    "    \n",
    "with open(join(path, val_fn), 'w') as fh:\n",
    "    lines = ''\n",
    "    \n",
    "    for fp in val_fps:\n",
    "        lines += f'{fp}\\n'\n",
    "        \n",
    "    fh.write(lines.strip())\n",
    "    \n",
    "# Create and save the yaml.\n",
    "yaml_dict = {\n",
    "    'names': ['Pre-NFT', 'iNFT'],\n",
    "    'nc': 2,\n",
    "    'path': path,\n",
    "    'train': train_fn,\n",
    "    'val': val_fn\n",
    "}\n",
    "\n",
    "with open(join(path, 'dataset.yaml'), 'w') as fh:\n",
    "    yaml.dump(yaml_dict, fh)\n",
    "    \n",
    "yaml_dict"
   ]
  }
 ],
 "metadata": {
  "kernelspec": {
   "display_name": "Python 3 (ipykernel)",
   "language": "python",
   "name": "python3"
  },
  "language_info": {
   "codemirror_mode": {
    "name": "ipython",
    "version": 3
   },
   "file_extension": ".py",
   "mimetype": "text/x-python",
   "name": "python",
   "nbconvert_exporter": "python",
   "pygments_lexer": "ipython3",
   "version": "3.8.13"
  }
 },
 "nbformat": 4,
 "nbformat_minor": 5
}
